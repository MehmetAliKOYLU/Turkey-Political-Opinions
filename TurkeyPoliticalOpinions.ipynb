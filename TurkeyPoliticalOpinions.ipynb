{
 "cells": [
  {
   "cell_type": "code",
   "execution_count": null,
   "metadata": {},
   "outputs": [],
   "source": [
    "import pandas as pd\n",
    "import matplotlib.pyplot as plt\n",
    "import numpy as np\n",
    "from sklearn.model_selection import train_test_split, cross_val_score\n",
    "from sklearn.ensemble import RandomForestClassifier\n",
    "from sklearn.neighbors import KNeighborsClassifier\n",
    "from sklearn.preprocessing import MinMaxScaler \n",
    "from sklearn.metrics import classification_report, accuracy_score\n",
    "from sklearn.neighbors import KNeighborsClassifier\n",
    "import warnings\n",
    "from sklearn.calibration import LabelEncoder\n",
    "\n",
    "warnings.filterwarnings(\"ignore\",category=UserWarning)"
   ]
  },
  {
   "cell_type": "code",
   "execution_count": null,
   "metadata": {},
   "outputs": [],
   "source": [
    "data=pd.read_csv(\"data.csv\")\n",
    "label_encoder = LabelEncoder()\n",
    "\n",
    "\n",
    "del data['Timestamp']\n",
    "\n",
    "data['Bolge'] = label_encoder.fit_transform(data['Bolge'])\n",
    "data = pd.get_dummies(data, columns=['Bolge'])\n",
    "data = data.rename(columns={'Bolge_0': 'Akdeniz'})\n",
    "data = data.rename(columns={'Bolge_1': 'DoğuAnadolu'})\n",
    "data = data.rename(columns={'Bolge_2': 'Ege'})\n",
    "data = data.rename(columns={'Bolge_3': 'GüneyDoğu'})\n",
    "data = data.rename(columns={'Bolge_4': 'Karadeniz'})\n",
    "data = data.rename(columns={'Bolge_5': 'Marmara'})\n",
    "data = data.rename(columns={'Bolge_6': 'İçAnadolu'})\n",
    "\n",
    "data['Yas'] = label_encoder.fit_transform(data['Yas'])\n",
    "data = pd.get_dummies(data, columns=['Yas'])\n",
    "data = data.rename(columns={'Yas_0': '0-18'})\n",
    "data = data.rename(columns={'Yas_1': '18-30'})\n",
    "data = data.rename(columns={'Yas_2': '30-50'})\n",
    "data = data.rename(columns={'Yas_3': '50-60'})\n",
    "data = data.rename(columns={'Yas_4': '60+'})\n",
    "\n",
    "data[['Akdeniz','DoğuAnadolu','Ege','GüneyDoğu','Karadeniz','Marmara','İçAnadolu']] = data[['Akdeniz','DoğuAnadolu','Ege','GüneyDoğu','Karadeniz','Marmara','İçAnadolu']].astype(int)\n",
    "data[['0-18','18-30','30-50','50-60','60+']]    =data[['0-18','18-30','30-50','50-60','60+']].astype(int)\n",
    "for i in range (1,11):\n",
    "    data[f'soru{i}']=data[f'soru{i}'].replace({'Evet':True,'Hayır':False})\n",
    "\n",
    "for i in range(1, 11):\n",
    "    column_name = f'soru{i}' \n",
    "    data[column_name] = data[column_name].astype(int)\n",
    "\n",
    "data['Egitim'] = data['Egitim'].replace({'İlkokul':0,'Ortaokul': 1,'Lise':2,'Ön Lisans':3,'Lisans':4,'Lisans Üstü':5})\n",
    "data['Cinsiyet']=data['Cinsiyet'].replace({'Erkek':1,'Kadın':0})\n",
    "\n",
    "data.head(50)\n",
    "\n",
    "\n"
   ]
  },
  {
   "cell_type": "code",
   "execution_count": null,
   "metadata": {},
   "outputs": [],
   "source": [
    "iyiparti=data[data.parti==\"IYI PARTI\"]\n",
    "akp=data[data.parti==\"AKP\"]\n",
    "chp=data[data.parti==\"CHP\"]\n",
    "hdp=data[data.parti==\"HDP\"]\n",
    "diger=data[data.parti==\"DIĞER\"]\n"
   ]
  },
  {
   "cell_type": "code",
   "execution_count": null,
   "metadata": {},
   "outputs": [],
   "source": [
    "plt.hist([iyiparti.Egitim,chp.Egitim,akp.Egitim,hdp.Egitim,diger.Egitim],\n",
    "         color=[\"green\", \"red\", \"blue\", \"black\",\"yellow\"],\n",
    "         label=[\"iyiparti\",\"CHP\",\"AKP\",\"hdp\",\"diger\"])\n",
    "plt.xlabel(\"Egitim\")\n",
    "\n",
    "\n",
    "plt.legend()\n",
    "\n",
    "plt.show()\n",
    "\n",
    "\n"
   ]
  },
  {
   "cell_type": "code",
   "execution_count": null,
   "metadata": {},
   "outputs": [],
   "source": [
    "\n",
    "y=data.parti.values\n",
    "x=data.drop([\"parti\"],axis=1)\n",
    "\n",
    "\n",
    "x_train,x_test,y_train,y_test=train_test_split(x,y,test_size=0.5,random_state=7)"
   ]
  },
  {
   "cell_type": "code",
   "execution_count": null,
   "metadata": {},
   "outputs": [],
   "source": [
    "k_values = list(range(1, 10))\n",
    "mean_scores = []\n",
    "\n",
    "for k in k_values:\n",
    "    knn = KNeighborsClassifier(n_neighbors=k)\n",
    "    scores = cross_val_score(knn, x_train, y_train, cv=5)  # 5x cross value score\n",
    "    mean_scores.append(scores.mean())\n",
    "\n",
    "optimal_k = k_values[mean_scores.index(max(mean_scores))]\n",
    "print(\"Optimal k value:\", optimal_k)\n",
    "\n",
    "final_knn = KNeighborsClassifier(n_neighbors=optimal_k)\n",
    "final_knn.fit(x_train, y_train)\n",
    "\n",
    "accuracy = final_knn.score(x_test, y_test)\n",
    "print(f\"Accuracy with optimal k value: %{accuracy * 100:.2f}\")\n",
    "sc = MinMaxScaler()\n",
    "sc.fit_transform(x.values)\n",
    "\n",
    "\n",
    "\n",
    "RFCmodel = RandomForestClassifier()  \n",
    "RFCmodel.fit(x_train,y_train)\n",
    "rfc_pred = RFCmodel.predict(x_test)\n",
    "rfc_acc = accuracy_score(rfc_pred, y_test)\n",
    "print (\"Random forest test accuracy: {:.2f}%\".format(rfc_acc*100))\n",
    "print( \"\\n\" )\n",
    "print(classification_report(y_test, rfc_pred))\n",
    "print( \"\\n\" )"
   ]
  },
  {
   "cell_type": "code",
   "execution_count": null,
   "metadata": {},
   "outputs": [],
   "source": [
    "def newprediction():\n",
    "    v1 = float(input(\"--Sex-- \\n[1]=Erkek \\n[0]=Kadın\\n>> \"))\n",
    "    v2 = int(input(\"--Age-- \\n[0]=0-18 \\n[1]=18-30 \\n[2]=30-50 \\n[3]=50-60 \\n[4]=60+\\n>> \"))\n",
    "    v3 = int(input(\"--Areas inhabited in Turkey-- \\n[0]=Marmara\\n[1]=Akdeniz\\n[2]=İç Anadolu\\n[3]=Karadeniz\\n[4]=Ege\\n[5]=Doğu Anadolu\\n[6]=Güneydoğu Anadolu \\n>> \"))\n",
    "    v4 = float(input(\"--Education Level--  \\n[0]=İlkokul'\\n[1]='Ortaokul'\\n[2]=Lise\\n[3]=Ön Lisans\\n[4]=Lisans\\n[5]=Lisans Üstü\\n>> \"))  \n",
    "    v5 = int(input(\"Do you think our Economic Status is good?\\n[YES]=1 [NO]=0 \\n>> \"))  \n",
    "    v6 = int(input(\"Need Reform in Education?\\n[YES]=1 [NO]=0 \\n>> \"))\n",
    "    v7 = int(input(\"Do you support customization?\\n[YES]=1 [NO]=0 \\n>> \"))\n",
    "    v8 = int(input(\"Should the state use a penalty like death penalty for certain crimes?\\n[YES]=1 [NO]=0 \\n>> \"))\n",
    "    v9 = int(input(\"Do you find our journalists neutral enough?\\n[YES]=1 [NO]=0 \\n>> \"))1\n",
    "    v10 = int(input(\"From 22:00 am Then Are You Supporting the Prohibition to Buy Drinks?\\n[YES]=1 [NO]=0 \\n>> \"))\n",
    "    v11 = int(input(\"Do You Want to Live in a Secular State?\\n[YES]=1 [NO]=0 \\n>> \"))\n",
    "    v12 = int(input(\"Are you supporting the abortion ban?\\n[YES]=1 [NO]=0 \\n>> \"))\n",
    "    v13 = int(input(\"Do you think that the extraordinary state (Ohal) restricts Freedoms?\\n[YES]=1 [NO]=0 \\n>> \"))\n",
    "    v14 = int(input(\"Would you like a new part of the parliament to enter?\\n[YES]=1 [NO]=0 \\n>> \"))\n",
    "    new_prediction = RFCmodel.predict(np.array([[v1, v2, v3, v4, v5, v6, v7,v8,v9,v10,v11,v12,v13,v14]]))\n",
    "    print(new_prediction)\n",
    "\n",
   ]
  }
 ],
 "metadata": {
  "kernelspec": {
   "display_name": "Python 3",
   "language": "python",
   "name": "python3"
  },
  "language_info": {
   "codemirror_mode": {
    "name": "ipython",
    "version": 3
   },
   "file_extension": ".py",
   "mimetype": "text/x-python",
   "name": "python",
   "nbconvert_exporter": "python",
   "pygments_lexer": "ipython3",
   "version": "3.11.5"
  }
 },
 "nbformat": 4,
 "nbformat_minor": 2
}
